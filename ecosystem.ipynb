{
 "cells": [
  {
   "cell_type": "markdown",
   "metadata": {},
   "source": [
    "![Ecosystem](https://python.langchain.com/svg/langchain_stack_dark.svg)"
   ]
  },
  {
   "cell_type": "markdown",
   "metadata": {},
   "source": [
    "| Component             | Description                                                                                                                                           |\n",
    "|-----------------------|-------------------------------------------------------------------------------------------------------------------------------------------------------|\n",
    "| **Langsmith Observability** | Provides tools to monitor, trace, and evaluate Langchain application performance, including performance monitoring, prompt performance analysis, and LLM decision tracing. |\n",
    "| **Langserve Deployments**  | Simplifies deployment of Langchain applications, allowing efficient management of configurations, scaling, and resource allocation.                    |\n",
    "| **Langchain Templates**    | Offers pre-built, reusable components and chains for common use cases, enabling faster development of LLM applications with customizable templates.      |\n",
    "| **Langchain Core**         | Contains essential abstractions, base classes, and the Langchain Expression Language, serving as a modular foundation for creating Langchain applications. |\n",
    "| **Langchain Community**    | A platform for developers to collaborate, share knowledge, and discuss challenges, fostering innovation, open-source contributions, and growth within the Langchain ecosystem. |\n"
   ]
  }
 ],
 "metadata": {
  "kernelspec": {
   "display_name": "base",
   "language": "python",
   "name": "python3"
  },
  "language_info": {
   "codemirror_mode": {
    "name": "ipython",
    "version": 3
   },
   "file_extension": ".py",
   "mimetype": "text/x-python",
   "name": "python",
   "nbconvert_exporter": "python",
   "pygments_lexer": "ipython3",
   "version": "3.11.5"
  }
 },
 "nbformat": 4,
 "nbformat_minor": 2
}
